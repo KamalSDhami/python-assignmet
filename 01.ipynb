{
 "cells": [
  {
   "cell_type": "code",
   "execution_count": 3,
   "metadata": {},
   "outputs": [
    {
     "name": "stdout",
     "output_type": "stream",
     "text": [
      "16\n"
     ]
    }
   ],
   "source": [
    "#Write a Python program to create a person class. Include attributes like name, country, and date of birth. Implement a method to determine the person's age.\n",
    "\n",
    "class Person:\n",
    "    def __init__(self, name, country, dob):\n",
    "        self.name = name\n",
    "        self.country = country\n",
    "        self.dob = dob\n",
    "\n",
    "    def age(self):\n",
    "        return 2021 - int(self.dob)\n",
    "    \n",
    "p1 = Person(\"Kamal\", \"India\", \"2005\")\n",
    "print(p1.age())"
   ]
  },
  {
   "cell_type": "code",
   "execution_count": null,
   "metadata": {},
   "outputs": [],
   "source": [
    "# Explain the features of OOPs. Describe encapsulation, inheritance, and polymorphism.\n",
    "\n",
    "# Encapsulation: Encapsulation is the process of wrapping up variables and methods into a single unit called class. It is used to restrict access to some of the object's components. Encapsulation is used to hide the values or state of a structured data object inside a class, preventing unauthorized parties' direct access to them. Encapsulation is used to protect the data from accidental corruption.\n",
    "\n",
    "# Inheritance: Inheritance is a mechanism in which one class acquires the properties and behavior of another class. It represents the IS-A relationship. It is used for code reusability and method overriding. The class which inherits the properties is called the derived class or child class, and the class whose properties are inherited is called the base class or parent class.\n",
    "\n",
    "# Polymorphism: Polymorphism is the ability of an object to take on many forms. It allows objects of different classes to be treated as objects of a common superclass. Polymorphism is used to make the code more flexible and reusable. It is achieved through method overriding and method overloading. Method overriding is when a subclass provides a specific implementation of a method that is already provided by its parent class. Method overloading is when a class has multiple methods with the same name but different parameters.\n",
    "\n"
   ]
  },
  {
   "cell_type": "code",
   "execution_count": null,
   "metadata": {},
   "outputs": [],
   "source": [
    "# Explain in detail about run time polymorphism.\n",
    "\n",
    "# Run-time polymorphism is achieved through method overriding. Method overriding is a feature that allows a subclass to provide a specific implementation of a method that is already provided by its parent class. When a method is called on an object, the runtime environment determines which version of the method to execute based on the type of the object at runtime.\n",
    "\n",
    "# In method overriding, the method in the subclass has the same name, return type, and parameters as the method in the parent class. The subclass method overrides the parent class method, providing a specific implementation for the method.\n",
    "\n",
    "# Run-time polymorphism allows for flexibility and extensibility in the code. It allows different subclasses to provide their own implementations of a method, allowing for customization and specialization of behavior. It also allows for code reuse and maintenance, as changes to the method implementation in the parent class can be propagated to all subclasses that override the method.\n",
    "\n",
    "# Run-time polymorphism is a key feature of object-oriented programming and is used to achieve polymorphism in the code, allowing objects of different classes to be treated as objects of a common superclass. It allows for dynamic method dispatch, where the method to be executed is determined at runtime based on the type of the object.\n",
    "\n",
    "# Run-time polymorphism is a powerful feature that allows for flexibility, extensibility, and code reuse in object-oriented programming. It is achieved through method overriding and is a key concept in object-oriented design and development.\n",
    "\n",
    "# Write a Python program to create a class named Rectangle. Include attributes like length and width, and methods to calculate the area and perimeter of the rectangle.\n",
    "\n"
   ]
  },
  {
   "cell_type": "code",
   "execution_count": null,
   "metadata": {},
   "outputs": [],
   "source": [
    "# What is a constructor? Is constructor overloading possible in Python? Explain.\n",
    "\n",
    "# A constructor is a special method in a class that is automatically called when an object of the class is created. It is used to initialize the object's state and set up the object's initial values. In Python, the constructor method is called __init__.\n"
   ]
  },
  {
   "cell_type": "code",
   "execution_count": 5,
   "metadata": {},
   "outputs": [
    {
     "name": "stdout",
     "output_type": "stream",
     "text": [
      "Original Matrix: [[1 2 3]\n",
      " [4 5 6]\n",
      " [7 8 9]]\n",
      "Transpose of the Matrix: [[1 4 7]\n",
      " [2 5 8]\n",
      " [3 6 9]]\n",
      "Sum of all elements in the Matrix: 45\n"
     ]
    }
   ],
   "source": [
    "'''Write a NumPy program to:\n",
    "Create\n",
    "     a 3x3 matrix with values ranging from 1 to 9.\n",
    "\n",
    "Find\n",
    "     the transpose of the matrix.\n",
    "Calculate\n",
    "     the sum of all elements in the matrix.'''\n",
    "import numpy as np\n",
    "\n",
    "# Create a 3x3 matrix with values ranging from 1 to 9\n",
    "matrix = np.arange(1, 10).reshape(3, 3)\n",
    "print(\"Original Matrix:\",matrix)\n",
    "\n",
    "# Find the transpose of the matrix\n",
    "transpose_matrix = np.transpose(matrix)\n",
    "print(\"Transpose of the Matrix:\",transpose_matrix)\n",
    "\n",
    "# Calculate the sum of all elements in the matrix\n",
    "sum_elements = np.sum(matrix)\n",
    "print(\"Sum of all elements in the Matrix:\", sum_elements)\n"
   ]
  },
  {
   "cell_type": "code",
   "execution_count": 10,
   "metadata": {},
   "outputs": [
    {
     "name": "stdout",
     "output_type": "stream",
     "text": [
      "Array after multiplying each element by 2:\n",
      "[ 20  40  60  80 100]\n",
      "Mean of the array: 60.0\n",
      "Standard Deviation of the array: 28.284271247461902\n"
     ]
    }
   ],
   "source": [
    "''' Given the array\n",
    "arr = np.array([10, 20, 30, 40, 50]):\n",
    "Multiply\n",
    "     each element by 2.\n",
    "Find\n",
    "     the mean and standard deviation of the array.\n",
    "'''\n",
    "arr = np.array([10, 20, 30, 40, 50])\n",
    "\n",
    "# Multiply each element by 2\n",
    "arr = arr * 2\n",
    "print(\"Array after multiplying each element by 2:\")\n",
    "print(arr)\n",
    "\n",
    "# Find the mean and standard deviation of the array\n",
    "mean = np.mean(arr)\n",
    "std_dev = np.std(arr)\n",
    "\n",
    "print(\"Mean of the array:\", mean)\n",
    "print(\"Standard Deviation of the array:\", std_dev)"
   ]
  },
  {
   "cell_type": "code",
   "execution_count": 11,
   "metadata": {},
   "outputs": [
    {
     "name": "stdout",
     "output_type": "stream",
     "text": [
      "Result using NumPy arrays: [ 7  9 11 13 15]\n",
      "Result using Python lists: [np.int64(7), np.int64(9), np.int64(11), np.int64(13), np.int64(15)]\n"
     ]
    }
   ],
   "source": [
    "'''. Explain the difference between a NumPy array and a\n",
    "Python list. Illustrate with an example where NumPy outperforms lists.\n",
    "\n",
    "'''\n",
    "\n",
    "# Difference between NumPy array and Python list:\n",
    "# 1. NumPy arrays are homogeneous, i.e., they can only contain elements of the same data type, while Python lists can contain elements of different data types.\n",
    "\n",
    "# 2. NumPy arrays are more memory efficient and faster compared to Python lists for numerical operations and large datasets.\n",
    "\n",
    "# 3. NumPy arrays support vectorized operations, which allow for element-wise operations without the need for explicit loops, making them more efficient for numerical computations.\n",
    "\n",
    "# 4. NumPy arrays provide a wide range of mathematical functions and operations for numerical computing, while Python lists do not have built-in support for such operations.\n",
    "\n",
    "# Example where NumPy outperforms lists:\n",
    "# Consider the task of adding two arrays or lists element-wise. Using NumPy arrays, this operation can be done efficiently using vectorized operations without the need for explicit loops. On the other hand, using Python lists, this operation would require explicit loops, making it slower and less memory efficient.\n",
    "\n",
    "import numpy as np\n",
    "\n",
    "# Create two arrays\n",
    "arr1 = np.array([1, 2, 3, 4, 5])\n",
    "arr2 = np.array([6, 7, 8, 9, 10])\n",
    "\n",
    "# Add the arrays element-wise using NumPy\n",
    "result_numpy = arr1 + arr2\n",
    "print(\"Result using NumPy arrays:\", result_numpy)\n",
    "\n",
    "# Add the arrays element-wise using Python lists\n",
    "result_list = [x + y for x, y in zip(arr1, arr2)]\n",
    "print(\"Result using Python lists:\", result_list)\n"
   ]
  },
  {
   "cell_type": "code",
   "execution_count": null,
   "metadata": {},
   "outputs": [],
   "source": [
    "#  Write the difference between Matplotlib VS Seaborn.\n",
    "\n",
    "# Matplotlib is a plotting library for creating static, interactive, and animated visualizations in Python. It provides a wide range of plotting functions and customization options for creating various types of plots, including line plots, bar plots, scatter plots, histograms, and more. Matplotlib is highly customizable and allows for fine-grained control over the appearance and layout of plots.\n",
    "\n",
    "# Seaborn is a data visualization library built on top of Matplotlib that provides a high-level interface for creating attractive and informative statistical graphics. Seaborn simplifies the process of creating complex plots by providing functions that handle the data manipulation and styling automatically. Seaborn is designed to work well with Pandas data structures and integrates seamlessly with Matplotlib.\n",
    "\n",
    "# The key differences between Matplotlib and Seaborn are:\n",
    "\n",
    "# 1. Ease of use: Seaborn provides a higher-level interface and simpler syntax for creating complex plots compared to Matplotlib. Seaborn functions are designed to work well with Pandas data structures, making it easier to create informative visualizations.\n",
    "\n",
    "# 2. Styling and aesthetics: Seaborn provides built-in themes and color palettes that make it easy to create visually appealing plots with minimal customization. Matplotlib, on the other hand, requires more manual styling and customization to achieve similar aesthetics.\n",
    "\n",
    "# 3. Statistical plotting: Seaborn specializes in creating statistical plots such as scatter plots, box plots, violin plots, and pair plots that are commonly used in data analysis and visualization. Matplotlib provides a wider range of plot types but may require more manual data manipulation and styling.\n",
    "\n",
    "# 4. Integration with Pandas: Seaborn is designed to work well with Pandas data structures, making it easy to create plots directly from Pandas DataFrames. Matplotlib can also work with Pandas data structures but may require more manual data manipulation.\n",
    "\n",
    "# Overall, Seaborn is a powerful tool for creating attractive and informative statistical graphics with minimal effort, while Matplotlib provides more flexibility and customization options for creating a wide range of plots.\n",
    "\n"
   ]
  }
 ],
 "metadata": {
  "kernelspec": {
   "display_name": "Python 3",
   "language": "python",
   "name": "python3"
  },
  "language_info": {
   "codemirror_mode": {
    "name": "ipython",
    "version": 3
   },
   "file_extension": ".py",
   "mimetype": "text/x-python",
   "name": "python",
   "nbconvert_exporter": "python",
   "pygments_lexer": "ipython3",
   "version": "3.12.3"
  }
 },
 "nbformat": 4,
 "nbformat_minor": 2
}
